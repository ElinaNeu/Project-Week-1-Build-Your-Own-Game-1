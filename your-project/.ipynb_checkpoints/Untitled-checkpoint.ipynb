{
 "cells": [
  {
   "cell_type": "markdown",
   "id": "0a9edb33",
   "metadata": {},
   "source": [
    "<img src=\"https://bit.ly/2VnXWr2\" alt=\"Ironhack Logo\" width=\"100\"/>\n",
    "\n",
    "# Project: 1 Guess a number\n",
    "*[Elina Neu]*\n",
    "\n",
    "*[Data Analytics,remote, 04.06.2021]*\n",
    "\n",
    "## Content\n",
    "- [Project Description](#project-description)\n",
    "- [Rules](#rules)\n",
    "- [Workflow](#workflow)\n",
    "- [Organization](#organization)\n",
    "- [Links](#links)\n",
    "\n",
    "## Project Description\n",
    "This project is intended to simulate the game \"guess a number\", in which the player has to guess a number from 1 to 100 within a limited number of attempts. For using the project the library \"random\" has been downloaded. \n",
    "## Rules\n",
    "The rules of the game include the following requirements:\n",
    "1. The number the player guesses is in the range 1-100\n",
    "2. The player has max. 7 tries to guess the number\n",
    "3. The player must choose a number\n",
    "## Workflow\n",
    "1. select game and research\n",
    "2. select steps in the game and structure code\n",
    "3. test code\n",
    "4. correct errors and finalise code \n",
    "\n",
    "## Organization\n",
    "To organise myself, I used a kanban board, which helped me to get an overview of the individual tasks.\n",
    "My repository contains my Jupiter notebook file, a .gitignore file and the read me file.\n",
    "\n",
    "## Links\n",
    "Include links to your repository, slides and kanban board. Feel free to include any other links associated with your project.\n",
    "\n",
    "[Repository](https://github.com/)  \n",
    "[Slides](https://slides.com/)  \n",
    "[Trello](https://trello.com/en)  \n",
    "\n"
   ]
  }
 ],
 "metadata": {
  "kernelspec": {
   "display_name": "Python 3",
   "language": "python",
   "name": "python3"
  },
  "language_info": {
   "codemirror_mode": {
    "name": "ipython",
    "version": 3
   },
   "file_extension": ".py",
   "mimetype": "text/x-python",
   "name": "python",
   "nbconvert_exporter": "python",
   "pygments_lexer": "ipython3",
   "version": "3.8.8"
  }
 },
 "nbformat": 4,
 "nbformat_minor": 5
}
